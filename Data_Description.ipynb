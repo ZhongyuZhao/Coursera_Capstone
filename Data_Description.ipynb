{
  "nbformat": 4,
  "nbformat_minor": 0,
  "metadata": {
    "colab": {
      "name": "Data_Description.ipynb",
      "provenance": [],
      "authorship_tag": "ABX9TyMVYymtCpvpfOdnWUyxmWLR",
      "include_colab_link": true
    },
    "kernelspec": {
      "name": "python3",
      "display_name": "Python 3"
    }
  },
  "cells": [
    {
      "cell_type": "markdown",
      "metadata": {
        "id": "view-in-github",
        "colab_type": "text"
      },
      "source": [
        "<a href=\"https://colab.research.google.com/github/ZhongyuZhao/Coursera_Capstone/blob/main/Data_Description.ipynb\" target=\"_parent\"><img src=\"https://colab.research.google.com/assets/colab-badge.svg\" alt=\"Open In Colab\"/></a>"
      ]
    },
    {
      "cell_type": "markdown",
      "metadata": {
        "id": "Cs8okNBNkDwx"
      },
      "source": [
        "#  The Battle of Neighborhoods : Data Description "
      ]
    },
    {
      "cell_type": "markdown",
      "metadata": {
        "id": "AhcJy3obkNDR"
      },
      "source": [
        "## Data Description"
      ]
    },
    {
      "cell_type": "markdown",
      "metadata": {
        "id": "pcc3IzgSj_rk"
      },
      "source": [
        "Data Link: \r\n",
        "https://en.wikipedia.org/wiki/List_of_postal_codes_of_Canada:_M\r\n",
        "https://en.wikipedia.org/wiki/List_of_Toronto_subway_stations\r\n",
        "https://www.kaggle.com/alincijov/toronto-crime-rate-per-neighbourhood\r\n",
        "\r\n",
        "Will use the data scrapped from wikipedia on Week 3. I will use Toronto venues data ,neighborhood crime data and traffic data to finish my project. \r\n",
        "\r\n"
      ]
    },
    {
      "cell_type": "markdown",
      "metadata": {
        "id": "rPtwS4C1kV3J"
      },
      "source": [
        "## Foursquare API Data"
      ]
    },
    {
      "cell_type": "markdown",
      "metadata": {
        "id": "0E2nYjutkc_I"
      },
      "source": [
        "Foursquare API Data:\r\n",
        "We will need data about different venues in different neighborhoods of that specific borough. In order to gain that information we will use \"Foursquare\" locational information. Foursquare is a location data provider with information about all manner of venues and events within an area of interest. Such information includes venue names, locations, menus and even photos. As such, the foursquare location platform will be used as the sole data source since all the stated required information can be obtained through the API.\r\n",
        "\r\n",
        "After finding the list of neighborhoods, we then connect to the Foursquare API to gather information about venues inside each and every neighborhood. For each neighborhood, we have chosen the radius to be 100 meter.\r\n",
        "\r\n",
        "The data retrieved from Foursquare will contain information of venues in North York and Downtown Toronto. The information obtained per venue as follows:\r\n",
        "\r\n",
        "1. Neighborhood\r\n",
        "2. Neighborhood Latitude\r\n",
        "3. Neighborhood Longitude\r\n",
        "4. Venue\r\n",
        "5. Name of the venue e.g. the name of a store or restaurant\r\n",
        "6. Venue Latitude\r\n",
        "7. Venue Longitude\r\n",
        "8. Venue Category\r\n",
        "\r\n",
        "I will use these data to find a kind of correspondence between downtown neighborhoods and North York neighborhoods."
      ]
    },
    {
      "cell_type": "markdown",
      "metadata": {
        "id": "vouz59G8l13B"
      },
      "source": [
        "## Toronto Crime Data & Metro Station Data"
      ]
    },
    {
      "cell_type": "markdown",
      "metadata": {
        "id": "ceRDka_FmyRx"
      },
      "source": [
        "In order to select the best neighborhood, I will use crime rate data and metro data to find out if a neighborhood is safe or convenient enough. Imagine someone wants to move to North York, I will do clustering first, filtering the neighborhoods to make sure it's similar to the neighborhood he previously lived in. Then I will rank those candidates using crime rate data and metro station data and draw a conclusion."
      ]
    }
  ]
}
